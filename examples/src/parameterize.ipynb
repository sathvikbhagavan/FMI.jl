{
 "cells": [
  {
   "cell_type": "markdown",
   "metadata": {},
   "source": [
    "# Parameterize a FMU\n",
    "Tutorial by Tobias Thummerer, Johannes Stoljar\n",
    "\n",
    "Last update: 09.08.2023\n",
    "\n",
    "🚧 This tutorial is under revision and will be replaced by an up-to-date version soon 🚧\n",
    "\n",
    "## License"
   ]
  },
  {
   "cell_type": "code",
   "execution_count": 1,
   "metadata": {
    "execution": {
     "iopub.execute_input": "2024-07-23T19:33:35.390000Z",
     "iopub.status.busy": "2024-07-23T19:33:34.937000Z",
     "iopub.status.idle": "2024-07-23T19:33:35.624000Z",
     "shell.execute_reply": "2024-07-23T19:33:35.546000Z"
    }
   },
   "outputs": [],
   "source": [
    "# Copyright (c) 2021 Tobias Thummerer, Lars Mikelsons, Josef Kircher, Johannes Stoljar\n",
    "# Licensed under the MIT license. \n",
    "# See LICENSE (https://github.com/thummeto/FMI.jl/blob/main/LICENSE) file in the project root for details."
   ]
  },
  {
   "attachments": {},
   "cell_type": "markdown",
   "metadata": {},
   "source": [
    "## Introduction\n",
    "This example shows how to parameterize a FMU. We will show to possible ways to parameterize: The default option using the parameterization feature of `fmiSimulate`, `fmiSimulateME` or `fmiSimulateCS`. Second, a custom parameterization routine for advanced users. \n",
    "\n",
    "## Other formats\n",
    "Besides, this [Jupyter Notebook](https://github.com/thummeto/FMI.jl/blob/examples/examples/src/parameterize.ipynb) there is also a [Julia file](https://github.com/thummeto/FMI.jl/blob/examples/examples/src/parameterize.jl) with the same name, which contains only the code cells and for the documentation there is a [Markdown file](https://github.com/thummeto/FMI.jl/blob/examples/examples/src/parameterize.md) corresponding to the notebook.  "
   ]
  },
  {
   "cell_type": "markdown",
   "metadata": {},
   "source": [
    "## Code section\n",
    "\n",
    "To run the example, the previously installed packages must be included. "
   ]
  },
  {
   "cell_type": "code",
   "execution_count": 2,
   "metadata": {
    "execution": {
     "iopub.execute_input": "2024-07-23T19:33:35.624000Z",
     "iopub.status.busy": "2024-07-23T19:33:35.624000Z",
     "iopub.status.idle": "2024-07-23T19:34:15.527000Z",
     "shell.execute_reply": "2024-07-23T19:34:15.527000Z"
    },
    "scrolled": false
   },
   "outputs": [],
   "source": [
    "# imports\n",
    "using FMI\n",
    "using FMIZoo"
   ]
  },
  {
   "cell_type": "markdown",
   "metadata": {},
   "source": [
    "### Simulation setup\n",
    "\n",
    "Next, the start time and end time of the simulation are set."
   ]
  },
  {
   "cell_type": "code",
   "execution_count": 3,
   "metadata": {
    "execution": {
     "iopub.execute_input": "2024-07-23T19:34:15.652000Z",
     "iopub.status.busy": "2024-07-23T19:34:15.527000Z",
     "iopub.status.idle": "2024-07-23T19:34:18.373000Z",
     "shell.execute_reply": "2024-07-23T19:34:18.373000Z"
    },
    "scrolled": false
   },
   "outputs": [
    {
     "data": {
      "text/plain": [
       "2-element Vector{Float64}:\n",
       " 0.0\n",
       " 1.0"
      ]
     },
     "execution_count": 3,
     "metadata": {},
     "output_type": "execute_result"
    }
   ],
   "source": [
    "tStart = 0.0\n",
    "tStop = 1.0\n",
    "tSave = collect(tStart:tStop)"
   ]
  },
  {
   "cell_type": "markdown",
   "metadata": {},
   "source": [
    "### Import FMU\n",
    "\n",
    "In the next lines of code the FMU model from *FMIZoo.jl* is loaded and the information about the FMU is shown."
   ]
  },
  {
   "cell_type": "code",
   "execution_count": 4,
   "metadata": {
    "execution": {
     "iopub.execute_input": "2024-07-23T19:34:18.420000Z",
     "iopub.status.busy": "2024-07-23T19:34:18.420000Z",
     "iopub.status.idle": "2024-07-23T19:34:24.158000Z",
     "shell.execute_reply": "2024-07-23T19:34:24.158000Z"
    },
    "scrolled": false
   },
   "outputs": [
    {
     "name": "stdout",
     "output_type": "stream",
     "text": [
      "#################### Begin information for FMU ####################\n",
      "\tModel name:\t\t\tIO\n",
      "\tFMI-Version:\t\t\t2.0\n",
      "\tGUID:\t\t\t\t{889089a6-481b-41a6-a282-f6ce02a33aa6}\n",
      "\tGeneration tool:\t\tDymola Version 2022x (64-bit), 2021-10-08\n",
      "\tGeneration time:\t\t2022-05-19T06:53:52Z\n",
      "\tVar. naming conv.:\t\tstructured\n",
      "\tEvent indicators:\t\t4\n",
      "\tInputs:\t\t\t\t3\n",
      "\t\t352321536 [\"u_real\"]\n",
      "\t\t352321537 [\"u_boolean\"]\n",
      "\t\t352321538 [\"u_integer\"]\n",
      "\tOutputs:\t\t\t3\n",
      "\t\t335544320 [\"y_real\"]\n",
      "\t\t335544321 [\"y_boolean\"]\n",
      "\t\t335544322 [\"y_integer\"]\n",
      "\tStates:\t\t\t\t0\n",
      "\tSupports Co-Simulation:\t\ttrue\n",
      "\t\tModel identifier:\tIO\n",
      "\t\tGet/Set State:\t\ttrue\n",
      "\t\tSerialize State:\ttrue\n",
      "\t\tDir. Derivatives:\ttrue\n",
      "\t\tVar. com. steps:\ttrue\n",
      "\t\tInput interpol.:\ttrue\n",
      "\t\tMax order out. der.:\t1\n",
      "\tSupports Model-Exchange:\ttrue\n",
      "\t\tModel identifier:\tIO\n",
      "\t\tGet/Set State:\t\ttrue\n",
      "\t\tSerialize State:\ttrue\n",
      "\t\tDir. Derivatives:\ttrue\n",
      "##################### End information for FMU #####################\n"
     ]
    }
   ],
   "source": [
    "# we use an FMU from the FMIZoo.jl\n",
    "# just replace this line with a local path if you want to use your own FMU\n",
    "pathToFMU = get_model_filename(\"IO\", \"Dymola\", \"2022x\")\n",
    "\n",
    "fmu = fmiLoad(pathToFMU)\n",
    "fmiInfo(fmu)"
   ]
  },
  {
   "cell_type": "markdown",
   "metadata": {},
   "source": [
    "### Option A: Integrated parameterization feature of *FMI.jl*\n",
    "If you are using the commands for simulation integrated in *FMI.jl*, the parameters and initial conditions are set at the correct locations during the initialization process of your FMU. This is the recommended way of parameterizing your model, if you don't have very uncommon requirements regarding initialization."
   ]
  },
  {
   "cell_type": "code",
   "execution_count": 5,
   "metadata": {
    "execution": {
     "iopub.execute_input": "2024-07-23T19:34:24.158000Z",
     "iopub.status.busy": "2024-07-23T19:34:24.158000Z",
     "iopub.status.idle": "2024-07-23T19:34:25.128000Z",
     "shell.execute_reply": "2024-07-23T19:34:25.128000Z"
    }
   },
   "outputs": [
    {
     "data": {
      "text/plain": [
       "Dict{String, Any}()"
      ]
     },
     "execution_count": 5,
     "metadata": {},
     "output_type": "execute_result"
    }
   ],
   "source": [
    "dict = Dict{String, Any}()\n",
    "dict"
   ]
  },
  {
   "cell_type": "markdown",
   "metadata": {},
   "source": [
    "### Option B: Custom parameterization routine\n",
    "If you have special requirements for initialization and parameterization, you can write your very own parameterization routine.\n",
    "\n",
    "### Instantiate and Setup FMU\n",
    "\n",
    "Next it is necessary to create an instance of the FMU. This is achieved by the command `fmiInstantiate!()`."
   ]
  },
  {
   "cell_type": "code",
   "execution_count": 6,
   "metadata": {
    "execution": {
     "iopub.execute_input": "2024-07-23T19:34:25.143000Z",
     "iopub.status.busy": "2024-07-23T19:34:25.143000Z",
     "iopub.status.idle": "2024-07-23T19:34:26.284000Z",
     "shell.execute_reply": "2024-07-23T19:34:26.284000Z"
    }
   },
   "outputs": [
    {
     "data": {
      "text/plain": [
       "FMU:            IO\n",
       "InstanceName:   IO\n",
       "Address:        Ptr{Nothing} @0x000001fbb9419910\n",
       "State:          0\n",
       "Logging:        1\n",
       "FMU time:       -Inf\n",
       "FMU states:     nothing"
      ]
     },
     "execution_count": 6,
     "metadata": {},
     "output_type": "execute_result"
    }
   ],
   "source": [
    "fmiInstantiate!(fmu; loggingOn=true)"
   ]
  },
  {
   "cell_type": "markdown",
   "metadata": {},
   "source": [
    "In the following code block, start and end time for the simulation is set by the `fmiSetupExperiment()` command."
   ]
  },
  {
   "cell_type": "code",
   "execution_count": 7,
   "metadata": {
    "execution": {
     "iopub.execute_input": "2024-07-23T19:34:26.284000Z",
     "iopub.status.busy": "2024-07-23T19:34:26.284000Z",
     "iopub.status.idle": "2024-07-23T19:34:26.534000Z",
     "shell.execute_reply": "2024-07-23T19:34:26.534000Z"
    }
   },
   "outputs": [
    {
     "data": {
      "text/plain": [
       "0x00000000"
      ]
     },
     "execution_count": 7,
     "metadata": {},
     "output_type": "execute_result"
    }
   ],
   "source": [
    "fmiSetupExperiment(fmu, tStart, tStop)"
   ]
  },
  {
   "cell_type": "markdown",
   "metadata": {},
   "source": [
    "### Parameterize FMU\n",
    "\n",
    "In this example, for each data type (`real`, `boolean`, `integer` and `string`) a corresponding input or parameter is selected. From here on, the inputs and parameters will be referred to as parameters for simplicity."
   ]
  },
  {
   "cell_type": "code",
   "execution_count": 8,
   "metadata": {
    "execution": {
     "iopub.execute_input": "2024-07-23T19:34:26.534000Z",
     "iopub.status.busy": "2024-07-23T19:34:26.534000Z",
     "iopub.status.idle": "2024-07-23T19:34:27.082000Z",
     "shell.execute_reply": "2024-07-23T19:34:27.082000Z"
    }
   },
   "outputs": [
    {
     "data": {
      "text/plain": [
       "4-element Vector{String}:\n",
       " \"p_real\"\n",
       " \"p_boolean\"\n",
       " \"p_integer\"\n",
       " \"p_string\""
      ]
     },
     "execution_count": 8,
     "metadata": {},
     "output_type": "execute_result"
    }
   ],
   "source": [
    "params = [\"p_real\", \"p_boolean\", \"p_integer\", \"p_string\"]"
   ]
  },
  {
   "cell_type": "markdown",
   "metadata": {},
   "source": [
    "At the beginning we want to display the initial state of these parameters, for which the FMU must be in initialization mode. The next function `fmiEnterInitializationMode()` informs the FMU to enter the initialization mode. Before calling this function, the variables can be set. Furthermore, `fmiSetupExperiment()` must be called at least once before calling `fmiEnterInitializationMode()`, in order that the start time is defined."
   ]
  },
  {
   "cell_type": "code",
   "execution_count": 9,
   "metadata": {
    "execution": {
     "iopub.execute_input": "2024-07-23T19:34:27.098000Z",
     "iopub.status.busy": "2024-07-23T19:34:27.098000Z",
     "iopub.status.idle": "2024-07-23T19:34:27.129000Z",
     "shell.execute_reply": "2024-07-23T19:34:27.129000Z"
    },
    "scrolled": true
   },
   "outputs": [
    {
     "data": {
      "text/plain": [
       "0x00000000"
      ]
     },
     "execution_count": 9,
     "metadata": {},
     "output_type": "execute_result"
    }
   ],
   "source": [
    "fmiEnterInitializationMode(fmu)"
   ]
  },
  {
   "cell_type": "markdown",
   "metadata": {},
   "source": [
    "The initial state of these parameters are displayed with the function `fmiGet()`."
   ]
  },
  {
   "cell_type": "code",
   "execution_count": 10,
   "metadata": {
    "execution": {
     "iopub.execute_input": "2024-07-23T19:34:27.129000Z",
     "iopub.status.busy": "2024-07-23T19:34:27.129000Z",
     "iopub.status.idle": "2024-07-23T19:34:28.223000Z",
     "shell.execute_reply": "2024-07-23T19:34:28.223000Z"
    }
   },
   "outputs": [
    {
     "data": {
      "text/plain": [
       "4-element Vector{Any}:\n",
       " 0.0\n",
       " 0\n",
       " 0\n",
       "  \"Hello World!\""
      ]
     },
     "execution_count": 10,
     "metadata": {},
     "output_type": "execute_result"
    }
   ],
   "source": [
    "fmiGet(fmu, params)"
   ]
  },
  {
   "cell_type": "markdown",
   "metadata": {},
   "source": [
    "The initialization mode is terminated with the function `fmiExitInitializationMode()`. (For the model exchange FMU type, this function switches off all initialization equations, and enters the event mode implicitly.)"
   ]
  },
  {
   "cell_type": "code",
   "execution_count": 11,
   "metadata": {
    "execution": {
     "iopub.execute_input": "2024-07-23T19:34:28.239000Z",
     "iopub.status.busy": "2024-07-23T19:34:28.239000Z",
     "iopub.status.idle": "2024-07-23T19:34:28.254000Z",
     "shell.execute_reply": "2024-07-23T19:34:28.254000Z"
    }
   },
   "outputs": [
    {
     "data": {
      "text/plain": [
       "0x00000000"
      ]
     },
     "execution_count": 11,
     "metadata": {},
     "output_type": "execute_result"
    }
   ],
   "source": [
    "fmiExitInitializationMode(fmu)"
   ]
  },
  {
   "cell_type": "markdown",
   "metadata": {},
   "source": [
    "In the next step, a function is defined that generates a random value for each parameter. For the parameter `p_string` a random number is inserted into the string. All parameters are combined to a tuple and output."
   ]
  },
  {
   "cell_type": "code",
   "execution_count": 12,
   "metadata": {
    "execution": {
     "iopub.execute_input": "2024-07-23T19:34:28.270000Z",
     "iopub.status.busy": "2024-07-23T19:34:28.270000Z",
     "iopub.status.idle": "2024-07-23T19:34:28.442000Z",
     "shell.execute_reply": "2024-07-23T19:34:28.442000Z"
    }
   },
   "outputs": [
    {
     "data": {
      "text/plain": [
       "generateRandomNumbers (generic function with 1 method)"
      ]
     },
     "execution_count": 12,
     "metadata": {},
     "output_type": "execute_result"
    }
   ],
   "source": [
    "function generateRandomNumbers()\n",
    "    rndReal = 100 * rand()\n",
    "    rndBoolean = rand() > 0.5\n",
    "    rndInteger = round(Integer, 100 * rand())\n",
    "    rndString = \"Random number $(100 * rand())!\"\n",
    "\n",
    "    return rndReal, rndBoolean, rndInteger, rndString\n",
    "end"
   ]
  },
  {
   "cell_type": "markdown",
   "metadata": {},
   "source": [
    "The previously defined function is called and the results are displayed in the console."
   ]
  },
  {
   "cell_type": "code",
   "execution_count": 13,
   "metadata": {
    "execution": {
     "iopub.execute_input": "2024-07-23T19:34:28.442000Z",
     "iopub.status.busy": "2024-07-23T19:34:28.442000Z",
     "iopub.status.idle": "2024-07-23T19:34:28.849000Z",
     "shell.execute_reply": "2024-07-23T19:34:28.849000Z"
    }
   },
   "outputs": [
    {
     "data": {
      "text/plain": [
       "(22.092766687157837, true, 41, \"Random number 50.28734370163779!\")"
      ]
     },
     "execution_count": 13,
     "metadata": {},
     "output_type": "execute_result"
    }
   ],
   "source": [
    "paramsVal = generateRandomNumbers()"
   ]
  },
  {
   "cell_type": "markdown",
   "metadata": {},
   "source": [
    "#### First variant\n",
    "\n",
    "To show the first variant, it is necessary to terminate and reset the FMU instance. Then, as before, the setup command must be called for the FMU. "
   ]
  },
  {
   "cell_type": "code",
   "execution_count": 14,
   "metadata": {
    "execution": {
     "iopub.execute_input": "2024-07-23T19:34:28.864000Z",
     "iopub.status.busy": "2024-07-23T19:34:28.864000Z",
     "iopub.status.idle": "2024-07-23T19:34:28.942000Z",
     "shell.execute_reply": "2024-07-23T19:34:28.942000Z"
    }
   },
   "outputs": [
    {
     "data": {
      "text/plain": [
       "0x00000000"
      ]
     },
     "execution_count": 14,
     "metadata": {},
     "output_type": "execute_result"
    }
   ],
   "source": [
    "fmiTerminate(fmu)\n",
    "fmiReset(fmu)\n",
    "fmiSetupExperiment(fmu, tStart, tStop)"
   ]
  },
  {
   "cell_type": "markdown",
   "metadata": {},
   "source": [
    "In the next step it is possible to set the parameters for the FMU. With the first variant it is quickly possible to set all parameters at once. Even different data types can be set with only one command. The command `fmiSet()` selects itself which function is chosen for which data type.  As long as the output of the function gives the status code 0, setting the parameters has worked."
   ]
  },
  {
   "cell_type": "code",
   "execution_count": 15,
   "metadata": {
    "execution": {
     "iopub.execute_input": "2024-07-23T19:34:28.942000Z",
     "iopub.status.busy": "2024-07-23T19:34:28.942000Z",
     "iopub.status.idle": "2024-07-23T19:34:29.943000Z",
     "shell.execute_reply": "2024-07-23T19:34:29.943000Z"
    }
   },
   "outputs": [
    {
     "data": {
      "text/plain": [
       "4-element Vector{UInt32}:\n",
       " 0x00000000\n",
       " 0x00000000\n",
       " 0x00000000\n",
       " 0x00000000"
      ]
     },
     "execution_count": 15,
     "metadata": {},
     "output_type": "execute_result"
    }
   ],
   "source": [
    "fmiSet(fmu, params, collect(paramsVal))"
   ]
  },
  {
   "cell_type": "markdown",
   "metadata": {},
   "source": [
    "After setting the parameters, it can be checked whether the corresponding parameters were set correctly. For this the function `fmiGet()` can be used as above. To be able to call the function `fmiGet()` the FMU must be in initialization mode."
   ]
  },
  {
   "cell_type": "code",
   "execution_count": 16,
   "metadata": {
    "execution": {
     "iopub.execute_input": "2024-07-23T19:34:29.943000Z",
     "iopub.status.busy": "2024-07-23T19:34:29.943000Z",
     "iopub.status.idle": "2024-07-23T19:34:29.943000Z",
     "shell.execute_reply": "2024-07-23T19:34:29.943000Z"
    }
   },
   "outputs": [
    {
     "data": {
      "text/plain": [
       "0x00000000"
      ]
     },
     "execution_count": 16,
     "metadata": {},
     "output_type": "execute_result"
    }
   ],
   "source": [
    "fmiEnterInitializationMode(fmu)\n",
    "# fmiGet(fmu, params)\n",
    "fmiExitInitializationMode(fmu)"
   ]
  },
  {
   "cell_type": "markdown",
   "metadata": {},
   "source": [
    "Now the FMU has been initialized correctly, the FMU can be simulated. The `fmiSimulate()` command is used for this purpose. It must be pointed out that the keywords `instantiate=false`, `setup=false` must be set. The keyword `instantiate=false` prevents the simulation command from creating a new FMU instance, otherwise our parameterization will be lost. The keyword `setup=false` prevents the FMU from calling the initialization mode again. The additionally listed keyword `freeInstance=false` prevents that the instance is removed after the simulation. This is only needed in this example, because we want to continue working on the created instance. Another keyword is the `recordValues=parmas[1:3]`, which saves: `p_real`, `p_boolean` and `p_integer` as output. It should be noted that the `fmiSimulate()` function is not capable of outputting string values, so `p_string` is omitted."
   ]
  },
  {
   "cell_type": "code",
   "execution_count": 17,
   "metadata": {
    "execution": {
     "iopub.execute_input": "2024-07-23T19:34:29.959000Z",
     "iopub.status.busy": "2024-07-23T19:34:29.959000Z",
     "iopub.status.idle": "2024-07-23T19:34:35.212000Z",
     "shell.execute_reply": "2024-07-23T19:34:35.212000Z"
    }
   },
   "outputs": [
    {
     "name": "stderr",
     "output_type": "stream",
     "text": [
      "\r",
      "\u001b[34mSimulating CS-FMU ...   0%|█                             |  ETA: N/A\u001b[39m"
     ]
    },
    {
     "name": "stderr",
     "output_type": "stream",
     "text": [
      "\r",
      "\u001b[34mSimulating CS-FMU ... 100%|██████████████████████████████| Time: 0:00:01\u001b[39m\n"
     ]
    },
    {
     "data": {
      "text/plain": [
       "Model name:\n",
       "\tIO\n",
       "Success:\n",
       "\ttrue\n",
       "f(x)-Evaluations:\n",
       "\tIn-place: 0\n",
       "\tOut-of-place: 0\n",
       "Jacobian-Evaluations:\n",
       "\t∂ẋ_∂p: 0\n",
       "\t∂ẋ_∂x: 0\n",
       "\t∂ẋ_∂u: 0\n",
       "\t∂y_∂p: 0\n",
       "\t∂y_∂x: 0\n",
       "\t∂y_∂u: 0\n",
       "\t∂e_∂p: 0\n",
       "\t∂e_∂x: 0\n",
       "\t∂e_∂u: 0\n",
       "\t∂xr_∂xl: 0\n",
       "Gradient-Evaluations:\n",
       "\t∂ẋ_∂t: 0\n",
       "\t∂y_∂t: 0\n",
       "\t∂e_∂t: 0\n",
       "Callback-Evaluations:\n",
       "\tCondition (event-indicators): 0\n",
       "\tTime-Choice (event-instances): 0\n",
       "\tAffect (event-handling): 0\n",
       "\tSave values: 0\n",
       "\tSteps completed: 0\n",
       "Values [2]:\n",
       "\t0.0\t(22.092766687157837, 1.0, 41.0)\n",
       "\t1.0\t(22.092766687157837, 1.0, 41.0)\n",
       "Events [0]:\n"
      ]
     },
     "execution_count": 17,
     "metadata": {},
     "output_type": "execute_result"
    }
   ],
   "source": [
    "simData = fmiSimulate(fmu, (tStart, tStop); recordValues=params[1:3], saveat=tSave, \n",
    "                        instantiate=false, setup=false, freeInstance=false, terminate=false, reset=false)"
   ]
  },
  {
   "cell_type": "markdown",
   "metadata": {},
   "source": [
    "#### Second variant\n",
    "\n",
    "To show the second variant, it is necessary to terminate and reset the FMU instance. Then, as before, the setup command must be called for the FMU. "
   ]
  },
  {
   "cell_type": "code",
   "execution_count": 18,
   "metadata": {
    "execution": {
     "iopub.execute_input": "2024-07-23T19:34:35.212000Z",
     "iopub.status.busy": "2024-07-23T19:34:35.212000Z",
     "iopub.status.idle": "2024-07-23T19:34:35.212000Z",
     "shell.execute_reply": "2024-07-23T19:34:35.212000Z"
    }
   },
   "outputs": [
    {
     "data": {
      "text/plain": [
       "0x00000000"
      ]
     },
     "execution_count": 18,
     "metadata": {},
     "output_type": "execute_result"
    }
   ],
   "source": [
    "fmiTerminate(fmu)\n",
    "fmiReset(fmu)\n",
    "fmiSetupExperiment(fmu, tStart, tStop)"
   ]
  },
  {
   "cell_type": "markdown",
   "metadata": {},
   "source": [
    "To make sure that the functions work it is necessary to generate random numbers again. As shown already, we call the defined function `generateRandomNumbers()` and output the values."
   ]
  },
  {
   "cell_type": "code",
   "execution_count": 19,
   "metadata": {
    "execution": {
     "iopub.execute_input": "2024-07-23T19:34:35.212000Z",
     "iopub.status.busy": "2024-07-23T19:34:35.212000Z",
     "iopub.status.idle": "2024-07-23T19:34:35.227000Z",
     "shell.execute_reply": "2024-07-23T19:34:35.227000Z"
    }
   },
   "outputs": [
    {
     "data": {
      "text/plain": [
       "(49.79810246858381, true, 46, \"Random number 29.544349341029353!\")"
      ]
     },
     "execution_count": 19,
     "metadata": {},
     "output_type": "execute_result"
    }
   ],
   "source": [
    "rndReal, rndBoolean, rndInteger, rndString = generateRandomNumbers()"
   ]
  },
  {
   "cell_type": "markdown",
   "metadata": {},
   "source": [
    "In the second variant, the value for each data type is set separately by the corresponding command. By this variant one has the maximum control and can be sure that also the correct data type is set. "
   ]
  },
  {
   "cell_type": "code",
   "execution_count": 20,
   "metadata": {
    "execution": {
     "iopub.execute_input": "2024-07-23T19:34:35.227000Z",
     "iopub.status.busy": "2024-07-23T19:34:35.227000Z",
     "iopub.status.idle": "2024-07-23T19:34:35.399000Z",
     "shell.execute_reply": "2024-07-23T19:34:35.399000Z"
    }
   },
   "outputs": [
    {
     "data": {
      "text/plain": [
       "0x00000000"
      ]
     },
     "execution_count": 20,
     "metadata": {},
     "output_type": "execute_result"
    }
   ],
   "source": [
    "fmiSetReal(fmu, \"p_real\", rndReal)\n",
    "fmiSetBoolean(fmu, \"p_boolean\", rndBoolean)\n",
    "fmiSetInteger(fmu, \"p_integer\", rndInteger)\n",
    "fmiSetString(fmu, \"p_string\", rndString)"
   ]
  },
  {
   "cell_type": "markdown",
   "metadata": {},
   "source": [
    "To illustrate the functionality of the parameterization with the separate functions, the corresponding get function can be also called separately for each data type:\n",
    "* `fmiSetReal()` &#8660; `fmiGetReal()`\n",
    "* `fmiSetBoolean()` &#8660; `fmiGetBoolean()`\n",
    "* `fmiSetInteger()` &#8660; `fmiGetInteger()`\n",
    "* `fmiSetString()` &#8660; `fmiGetString()`.\n",
    "\n",
    "As before, the FMU must be in initialization mode."
   ]
  },
  {
   "cell_type": "code",
   "execution_count": 21,
   "metadata": {
    "execution": {
     "iopub.execute_input": "2024-07-23T19:34:35.399000Z",
     "iopub.status.busy": "2024-07-23T19:34:35.399000Z",
     "iopub.status.idle": "2024-07-23T19:34:35.399000Z",
     "shell.execute_reply": "2024-07-23T19:34:35.399000Z"
    }
   },
   "outputs": [
    {
     "data": {
      "text/plain": [
       "0x00000000"
      ]
     },
     "execution_count": 21,
     "metadata": {},
     "output_type": "execute_result"
    }
   ],
   "source": [
    "fmiEnterInitializationMode(fmu)\n",
    "# fmiGetReal(fmu, \"u_real\")\n",
    "# fmiGetBoolean(fmu, \"u_boolean\")\n",
    "# fmiGetInteger(fmu, \"u_integer\")\n",
    "# fmiGetString(fmu, \"p_string\")\n",
    "fmiExitInitializationMode(fmu)"
   ]
  },
  {
   "cell_type": "markdown",
   "metadata": {},
   "source": [
    "From here on, you may want to simulate the FMU. Please note, that with the default `executionConfig`, it is necessary to prevent a new instantiation using the keyword `instantiate=false`. Otherwise, a new instance is allocated for the simulation-call and the parameters set for the previous instance are not transfered."
   ]
  },
  {
   "cell_type": "code",
   "execution_count": 22,
   "metadata": {
    "execution": {
     "iopub.execute_input": "2024-07-23T19:34:35.399000Z",
     "iopub.status.busy": "2024-07-23T19:34:35.399000Z",
     "iopub.status.idle": "2024-07-23T19:34:35.915000Z",
     "shell.execute_reply": "2024-07-23T19:34:35.915000Z"
    }
   },
   "outputs": [
    {
     "data": {
      "text/plain": [
       "Model name:\n",
       "\tIO\n",
       "Success:\n",
       "\ttrue\n",
       "f(x)-Evaluations:\n",
       "\tIn-place: 0\n",
       "\tOut-of-place: 0\n",
       "Jacobian-Evaluations:\n",
       "\t∂ẋ_∂p: 0\n",
       "\t∂ẋ_∂x: 0\n",
       "\t∂ẋ_∂u: 0\n",
       "\t∂y_∂p: 0\n",
       "\t∂y_∂x: 0\n",
       "\t∂y_∂u: 0\n",
       "\t∂e_∂p: 0\n",
       "\t∂e_∂x: 0\n",
       "\t∂e_∂u: 0\n",
       "\t∂xr_∂xl: 0\n",
       "Gradient-Evaluations:\n",
       "\t∂ẋ_∂t: 0\n",
       "\t∂y_∂t: 0\n",
       "\t∂e_∂t: 0\n",
       "Callback-Evaluations:\n",
       "\tCondition (event-indicators): 0\n",
       "\tTime-Choice (event-instances): 0\n",
       "\tAffect (event-handling): 0\n",
       "\tSave values: 0\n",
       "\tSteps completed: 0\n",
       "Values [2]:\n",
       "\t0.0\t(49.79810246858381, 1.0, 46.0)\n",
       "\t1.0\t(49.79810246858381, 1.0, 46.0)\n",
       "Events [0]:\n"
      ]
     },
     "execution_count": 22,
     "metadata": {},
     "output_type": "execute_result"
    }
   ],
   "source": [
    "simData = fmiSimulate(fmu, (tStart, tStop); recordValues=params[1:3], saveat=tSave, \n",
    "                        instantiate=false, setup=false)"
   ]
  },
  {
   "cell_type": "markdown",
   "metadata": {},
   "source": [
    "### Unload FMU\n",
    "\n",
    "The FMU will be unloaded and all unpacked data on disc will be removed."
   ]
  },
  {
   "cell_type": "code",
   "execution_count": 23,
   "metadata": {
    "execution": {
     "iopub.execute_input": "2024-07-23T19:34:35.915000Z",
     "iopub.status.busy": "2024-07-23T19:34:35.915000Z",
     "iopub.status.idle": "2024-07-23T19:34:36.165000Z",
     "shell.execute_reply": "2024-07-23T19:34:36.150000Z"
    }
   },
   "outputs": [],
   "source": [
    "fmiUnload(fmu)"
   ]
  },
  {
   "cell_type": "markdown",
   "metadata": {},
   "source": [
    "### Summary\n",
    "\n",
    "Based on this tutorial it can be seen that there are two different variants to set and get parameters.These examples should make it clear to the user how parameters can also be set with different data types. As a small reminder, the sequence of commands for the manual parameterization of an FMU is summarized again. \n",
    "\n",
    "`fmiLoad()` &#8594; `fmiInstantiate!()` &#8594; `fmiSetupExperiment()` &#8594; `fmiSetXXX()` &#8594; `fmiEnterInitializationMode()` &#8594; `fmiGetXXX()` &#8594; `fmiExitInitializationMode()` &#8594; `fmiSimualte()` &#8594; `fmiUnload()`"
   ]
  }
 ],
 "metadata": {
  "interpreter": {
   "hash": "037537ff7419c497b9325f7d495147943224d408cf5d5ed915294a5b960167b0"
  },
  "jupytext": {
   "cell_metadata_filter": "-all",
   "comment_magics": "false",
   "notebook_metadata_filter": "-all"
  },
  "kernelspec": {
   "display_name": "Julia 1.9.1",
   "language": "julia",
   "name": "julia-1.9"
  },
  "language_info": {
   "file_extension": ".jl",
   "mimetype": "application/julia",
   "name": "julia",
   "version": "1.8.5"
  },
  "nteract": {
   "version": "0.28.0"
  }
 },
 "nbformat": 4,
 "nbformat_minor": 2
}
